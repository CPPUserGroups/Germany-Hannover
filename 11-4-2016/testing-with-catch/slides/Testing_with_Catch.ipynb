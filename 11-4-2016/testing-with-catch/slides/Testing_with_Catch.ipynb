{
 "cells": [
  {
   "cell_type": "markdown",
   "metadata": {
    "slideshow": {
     "slide_type": "slide"
    }
   },
   "source": [
    "# Testing with Catch"
   ]
  },
  {
   "cell_type": "markdown",
   "metadata": {
    "slideshow": {
     "slide_type": "slide"
    }
   },
   "source": [
    "## Resources\n",
    "\n",
    "https://github.com/philsquared/Catch\n",
    "\n",
    "https://github.com/philsquared/Catch/blob/master/docs/tutorial.md\n",
    "\n",
    "[Testdriven C++ with Catch - Phil Nash @ Meeting C++ 2014](https://www.youtube.com/watch?v=C2LcIp56i-8)\n",
    "\n",
    "[CppCon 2015: Phil Nash Test Driven C++ with Catch](https://www.youtube.com/watch?v=gdzP3pAC6UI)\n",
    "\n",
    "[NDC Oslo Testdriven C++ with Catch - Phil Nash](https://vimeo.com/131632252)\n",
    "\n",
    "[CppCast: Testdriven C++ using Catch with Phil Nash](http://cppcast.com/2015/05/phil-nash/)"
   ]
  },
  {
   "cell_type": "markdown",
   "metadata": {
    "collapsed": false,
    "slideshow": {
     "slide_type": "slide"
    }
   },
   "source": [
    "```cpp\n",
    "#define CATCH_CONFIG_MAIN\n",
    "#include <catch.hpp>\n",
    "\n",
    "TEST_CASE(\"test\") {\n",
    "\n",
    "    REQUIRE(3 == 2 + 1);\n",
    "\n",
    "}\n",
    "```"
   ]
  },
  {
   "cell_type": "code",
   "execution_count": 1,
   "metadata": {
    "collapsed": false,
    "scrolled": true,
    "slideshow": {
     "slide_type": "slide"
    }
   },
   "outputs": [
    {
     "name": "stdout",
     "output_type": "stream",
     "text": [
      "\u001b[1;31m\u001b[0m\u001b[0;33m\u001b[0m\u001b[1;32m===============================================================================\u001b[0m\n",
      "\u001b[1;32mAll tests passed\u001b[0m (1 assertion in 1 test case)\n",
      "\n"
     ]
    }
   ],
   "source": [
    "%%bash\n",
    "cat <<EOF | clang++ -Wall -Werror -pedantic -x c++ - -o test01 && ./test01 --use-colour yes\n",
    "#define CATCH_CONFIG_MAIN\n",
    "#include <catch.hpp>\n",
    "\n",
    "TEST_CASE(\"test\") {\n",
    "\n",
    "    REQUIRE(3 == 2 + 1);\n",
    "\n",
    "}\n",
    "EOF"
   ]
  },
  {
   "cell_type": "markdown",
   "metadata": {
    "slideshow": {
     "slide_type": "slide"
    }
   },
   "source": [
    "## Options"
   ]
  },
  {
   "cell_type": "code",
   "execution_count": 2,
   "metadata": {
    "collapsed": false,
    "slideshow": {
     "slide_type": "fragment"
    }
   },
   "outputs": [
    {
     "name": "stdout",
     "output_type": "stream",
     "text": [
      "\n",
      "Catch v1.4.0\n",
      "usage:\n",
      "  test01 [<test name, pattern or tags> ...] [options]\n",
      "\n",
      "where options are: \n",
      "  -?, -h, --help               display usage information\n",
      "  -l, --list-tests             list all/matching test cases\n",
      "  -t, --list-tags              list all/matching tags\n",
      "  -s, --success                include successful tests in output\n",
      "  -b, --break                  break into debugger on failure\n",
      "  -e, --nothrow                skip exception tests\n",
      "  -i, --invisibles             show invisibles (tabs, newlines)\n",
      "  -o, --out <filename>         output filename\n",
      "  -r, --reporter <name>        reporter to use (defaults to console)\n",
      "  -n, --name <name>            suite name\n",
      "  -a, --abort                  abort at first failure\n",
      "  -x, --abortx <no. failures>  abort after x failures\n",
      "  -w, --warn <warning name>    enable warnings\n",
      "  -d, --durations <yes|no>     show test durations\n",
      "  -f, --input-file <filename>  load test names to run from a file\n",
      "  -#, --filenames-as-tags      adds a tag for the filename\n",
      "  --list-test-names-only       list all/matching test cases names only\n",
      "  --list-reporters             list all reporters\n",
      "  --order <decl|lex|rand>      test case order (defaults to decl)\n",
      "  --rng-seed <'time'|number>   set a specific seed for random numbers\n",
      "  --force-colour               force colourised output (deprecated)\n",
      "  --use-colour <yes|no>        should output be colourised\n",
      "\n",
      "For more detail usage please see the project docs\n",
      "\n"
     ]
    }
   ],
   "source": [
    "%%bash\n",
    "./test01 --help"
   ]
  },
  {
   "cell_type": "code",
   "execution_count": 3,
   "metadata": {
    "collapsed": false,
    "slideshow": {
     "slide_type": "slide"
    }
   },
   "outputs": [
    {
     "name": "stdout",
     "output_type": "stream",
     "text": [
      "\n",
      "~~~~~~~~~~~~~~~~~~~~~~~~~~~~~~~~~~~~~~~~~~~~~~~~~~~~~~~~~~~~~~~~~~~~~~~~~~~~~~~\n",
      "\u001b[0;37mtest01 is a Catch v1.4.0 host application.\n",
      "Run with -? for options\n",
      "\n",
      "\u001b[0m-------------------------------------------------------------------------------\n",
      "\u001b[0mtest\n",
      "\u001b[0m-------------------------------------------------------------------------------\n",
      "\u001b[0;37m<stdin>:4\n",
      "\u001b[0m...............................................................................\n",
      "\n",
      "\u001b[0;37m<stdin>:6: \u001b[0m\n",
      "\u001b[0;32mPASSED:\n",
      "\u001b[0m\u001b[0;36m  REQUIRE( 3 == 2 + 1 )\n",
      "\u001b[0mwith expansion:\n",
      "\u001b[0;33m  3 == 3\n",
      "\u001b[0m\n",
      "\u001b[1;31m\u001b[0m\u001b[0;33m\u001b[0m\u001b[1;32m===============================================================================\u001b[0m\n",
      "\u001b[1;32mAll tests passed\u001b[0m (1 assertion in 1 test case)\n",
      "\n"
     ]
    }
   ],
   "source": [
    "%%bash\n",
    "./test01 --success --use-colour yes"
   ]
  },
  {
   "cell_type": "markdown",
   "metadata": {
    "slideshow": {
     "slide_type": "slide"
    }
   },
   "source": [
    "## Behavior Driven Development"
   ]
  },
  {
   "cell_type": "markdown",
   "metadata": {
    "slideshow": {
     "slide_type": "fragment"
    }
   },
   "source": [
    "```cpp\n",
    "SCENARIO(\"A <Sometoy> does <something>\", \"[tag]\") {\n",
    "    GIVEN(\"A <Sometoy>\") {\n",
    "        WHEN(\"<SomeAction> is performed\") {\n",
    "            THEN(\"<SomeValue> is returned\") {\n",
    "                REQUIRE( true );\n",
    "            }\n",
    "        }\n",
    "    }\n",
    "}\n",
    "```"
   ]
  },
  {
   "cell_type": "markdown",
   "metadata": {
    "slideshow": {
     "slide_type": "fragment"
    }
   },
   "source": [
    "https://github.com/philsquared/Catch/issues/446"
   ]
  },
  {
   "cell_type": "code",
   "execution_count": 4,
   "metadata": {
    "collapsed": false,
    "slideshow": {
     "slide_type": "subslide"
    }
   },
   "outputs": [
    {
     "name": "stdout",
     "output_type": "stream",
     "text": [
      "\n",
      "~~~~~~~~~~~~~~~~~~~~~~~~~~~~~~~~~~~~~~~~~~~~~~~~~~~~~~~~~~~~~~~~~~~~~~~~~~~~~~~\n",
      "\u001b[0;37mbddStyle is a Catch v1.4.0 host application.\n",
      "Run with -? for options\n",
      "\n",
      "\u001b[0m-------------------------------------------------------------------------------\n",
      "\u001b[0mScenario: A <Sometoy> does <something>\n",
      "\u001b[0m\u001b[0m     Given: A <Sometoy>\n",
      "      When: <SomeAction> is performed\n",
      "      Then: <SomeValue> is returned\n",
      "\u001b[0m-------------------------------------------------------------------------------\n",
      "\u001b[0;37m<stdin>:4\n",
      "\u001b[0m...............................................................................\n",
      "\n",
      "\u001b[0;37m<stdin>:8: \u001b[0m\n",
      "\u001b[0;32mPASSED:\n",
      "\u001b[0m\u001b[0;36m  REQUIRE( true )\n",
      "\u001b[0m\n",
      "\u001b[1;31m\u001b[0m\u001b[0;33m\u001b[0m\u001b[1;32m===============================================================================\u001b[0m\n",
      "\u001b[1;32mAll tests passed\u001b[0m (1 assertion in 1 test case)\n",
      "\n"
     ]
    }
   ],
   "source": [
    "%%bash\n",
    "cat <<EOF | clang++ -Wall -Werror -pedantic -x c++ - -o bddStyle && ./bddStyle --success --use-colour yes\n",
    "#define CATCH_CONFIG_MAIN\n",
    "#include <catch.hpp>\n",
    "\n",
    "SCENARIO(\"A <Sometoy> does <something>\", \"[tag]\") {\n",
    "    GIVEN(\"A <Sometoy>\") {\n",
    "        WHEN(\"<SomeAction> is performed\") {\n",
    "            THEN(\"<SomeValue> is returned\") {\n",
    "                REQUIRE( true );\n",
    "            }\n",
    "        }\n",
    "    }\n",
    "}\n",
    "EOF"
   ]
  },
  {
   "cell_type": "markdown",
   "metadata": {
    "slideshow": {
     "slide_type": "slide"
    }
   },
   "source": [
    "## Test selection based on tags"
   ]
  },
  {
   "cell_type": "code",
   "execution_count": 5,
   "metadata": {
    "collapsed": false,
    "slideshow": {
     "slide_type": "fragment"
    }
   },
   "outputs": [
    {
     "name": "stdout",
     "output_type": "stream",
     "text": [
      "\u001b[0;33m===============================================================================\u001b[0m\n",
      "\u001b[0;33mNo tests ran\n",
      "\u001b[0m\n"
     ]
    }
   ],
   "source": [
    "%%bash\n",
    "cat <<EOF | clang++ -Wall -Werror -pedantic -x c++ - -o tags && ./tags --success --use-colour yes\n",
    "#define CATCH_CONFIG_MAIN\n",
    "#include <catch.hpp>\n",
    "\n",
    "SCENARIO(\"A <Sometoy> does <something>\", \"[.integration]\") {\n",
    "    GIVEN(\"A <Sometoy>\") {\n",
    "        WHEN(\"<SomeAction> is performed\") {\n",
    "            THEN(\"<SomeValue> is returned\") {\n",
    "                REQUIRE( true );\n",
    "            }\n",
    "        }\n",
    "    }\n",
    "}\n",
    "EOF"
   ]
  },
  {
   "cell_type": "code",
   "execution_count": 6,
   "metadata": {
    "collapsed": false,
    "slideshow": {
     "slide_type": "subslide"
    }
   },
   "outputs": [
    {
     "name": "stdout",
     "output_type": "stream",
     "text": [
      "\u001b[1;31m\u001b[0m\u001b[0;33m\u001b[0m\u001b[1;32m===============================================================================\u001b[0m\n",
      "\u001b[1;32mAll tests passed\u001b[0m (1 assertion in 1 test case)\n",
      "\n"
     ]
    }
   ],
   "source": [
    "%%bash\n",
    "cat <<EOF | clang++ -Wall -Werror -pedantic -x c++ - -o tags2 && ./tags2 --use-colour yes [.integration]\n",
    "#define CATCH_CONFIG_MAIN\n",
    "#include <catch.hpp>\n",
    "\n",
    "SCENARIO(\"A <Sometoy> does <something>\", \"[.integration]\") {\n",
    "    GIVEN(\"A <Sometoy>\") {\n",
    "        WHEN(\"<SomeAction> is performed\") {\n",
    "            THEN(\"<SomeValue> is returned\") {\n",
    "                REQUIRE( true );\n",
    "            }\n",
    "        }\n",
    "    }\n",
    "}\n",
    "EOF"
   ]
  },
  {
   "cell_type": "code",
   "execution_count": 7,
   "metadata": {
    "collapsed": false,
    "slideshow": {
     "slide_type": "subslide"
    }
   },
   "outputs": [
    {
     "name": "stdout",
     "output_type": "stream",
     "text": [
      "\u001b[0;33m===============================================================================\u001b[0m\n",
      "\u001b[0;33mNo tests ran\n",
      "\u001b[0m\n"
     ]
    }
   ],
   "source": [
    "%%bash\n",
    "cat <<EOF | clang++ -Wall -Werror -pedantic -x c++ - -o tags3 && ./tags3 --use-colour yes [^integration]\n",
    "#define CATCH_CONFIG_MAIN\n",
    "#include <catch.hpp>\n",
    "\n",
    "SCENARIO(\"A <Sometoy> does <something>\", \"[integration]\") {\n",
    "    GIVEN(\"A <Sometoy>\") {\n",
    "        WHEN(\"<SomeAction> is performed\") {\n",
    "            THEN(\"<SomeValue> is returned\") {\n",
    "                REQUIRE( true );\n",
    "            }\n",
    "        }\n",
    "    }\n",
    "}\n",
    "EOF"
   ]
  },
  {
   "cell_type": "markdown",
   "metadata": {
    "slideshow": {
     "slide_type": "slide"
    }
   },
   "source": [
    "## operator<<"
   ]
  },
  {
   "cell_type": "markdown",
   "metadata": {
    "slideshow": {
     "slide_type": "subslide"
    }
   },
   "source": [
    "```cpp\n",
    "#define CATCH_CONFIG_MAIN\n",
    "#include <catch.hpp>\n",
    "\n",
    "#include <string>\n",
    "\n",
    "struct OperatorDemo {\n",
    "    std::string name;\n",
    "    double weight;\n",
    "    int age;\n",
    "    int size;\n",
    "\n",
    "    bool operator==(const OperatorDemo& other) {\n",
    "        return name == other.name &&\n",
    "               weight == other.weight &&\n",
    "               age == other.age &&\n",
    "               size == other.size;\n",
    "    }\n",
    "};\n",
    "\n",
    "TEST_CASE(\"Our C++ heroes are unique\") {\n",
    "    // just guessing ;)\n",
    "    OperatorDemo scott = {\"Scott Meyers\", 68.9, 49, 189};\n",
    "    OperatorDemo bjarne = {\"Bjarne Stroustrup\", 84.1, 64, 170};\n",
    "\n",
    "    REQUIRE(scott == bjarne);\n",
    "}\n",
    "```"
   ]
  },
  {
   "cell_type": "code",
   "execution_count": 8,
   "metadata": {
    "collapsed": false,
    "slideshow": {
     "slide_type": "subslide"
    }
   },
   "outputs": [
    {
     "name": "stdout",
     "output_type": "stream",
     "text": [
      "\n",
      "~~~~~~~~~~~~~~~~~~~~~~~~~~~~~~~~~~~~~~~~~~~~~~~~~~~~~~~~~~~~~~~~~~~~~~~~~~~~~~~\n",
      "\u001b[0;37mtest02 is a Catch v1.4.0 host application.\n",
      "Run with -? for options\n",
      "\n",
      "\u001b[0m-------------------------------------------------------------------------------\n",
      "\u001b[0mOur C++ heroes are unique\n",
      "\u001b[0m-------------------------------------------------------------------------------\n",
      "\u001b[0;37m<stdin>:20\n",
      "\u001b[0m...............................................................................\n",
      "\n",
      "\u001b[0;37m<stdin>:25: \u001b[0m\u001b[1;31mFAILED:\n",
      "\u001b[0m\u001b[0;36m  REQUIRE( scott == bjarne )\n",
      "\u001b[0mwith expansion:\n",
      "\u001b[0;33m  {?} == {?}\n",
      "\u001b[0m\n",
      "\u001b[1;31m===============================================================================\u001b[0m\u001b[0;33m\u001b[0m\u001b[0;32m\u001b[0m\n",
      "test cases: 1\u001b[0;37m | \u001b[0m\u001b[1;31m1 failed\u001b[0m\n",
      "assertions: 1\u001b[0;37m | \u001b[0m\u001b[1;31m1 failed\u001b[0m\n",
      "\n"
     ]
    }
   ],
   "source": [
    "%%bash\n",
    "cat <<EOF | clang++ -Wall -Werror -pedantic -x c++ - -o test02 && ./test02 --use-colour yes\n",
    "#define CATCH_CONFIG_MAIN\n",
    "#include <catch.hpp>\n",
    "\n",
    "#include <string>\n",
    "\n",
    "struct OperatorDemo {\n",
    "    std::string name;\n",
    "    double weight;\n",
    "    int age;\n",
    "    int size;\n",
    "\n",
    "    bool operator==(const OperatorDemo& other) {\n",
    "        return name == other.name &&\n",
    "               weight == other.weight &&\n",
    "               age == other.age &&\n",
    "               size == other.size;\n",
    "    }\n",
    "};\n",
    "\n",
    "TEST_CASE(\"Our C++ heroes are unique\") {\n",
    "    // just guessing ;)\n",
    "    OperatorDemo scott = {\"Scott Meyers\", 68.9, 49, 189};\n",
    "    OperatorDemo bjarne = {\"Bjarne Stroustrup\", 84.1, 64, 170};\n",
    "\n",
    "    REQUIRE(scott == bjarne);\n",
    "}\n",
    "EOF"
   ]
  },
  {
   "cell_type": "markdown",
   "metadata": {
    "slideshow": {
     "slide_type": "subslide"
    }
   },
   "source": [
    "```cpp\n",
    "std::ostream& operator<<(std::ostream& os, const OperatorDemo& o) {\n",
    "    return os << \"{ \"\n",
    "              << o.name\n",
    "              << \", age: \" << o.age\n",
    "              << \", weight: \" << o.weight\n",
    "              << \", size: \" << o.size\n",
    "              << \" }\";\n",
    "}\n",
    "```"
   ]
  },
  {
   "cell_type": "code",
   "execution_count": 9,
   "metadata": {
    "collapsed": false,
    "slideshow": {
     "slide_type": "subslide"
    }
   },
   "outputs": [
    {
     "name": "stdout",
     "output_type": "stream",
     "text": [
      "\n",
      "~~~~~~~~~~~~~~~~~~~~~~~~~~~~~~~~~~~~~~~~~~~~~~~~~~~~~~~~~~~~~~~~~~~~~~~~~~~~~~~\n",
      "\u001b[0;37mtest03 is a Catch v1.4.0 host application.\n",
      "Run with -? for options\n",
      "\n",
      "\u001b[0m-------------------------------------------------------------------------------\n",
      "\u001b[0mOur C++ heroes are unique\n",
      "\u001b[0m-------------------------------------------------------------------------------\n",
      "\u001b[0;37m<stdin>:29\n",
      "\u001b[0m...............................................................................\n",
      "\n",
      "\u001b[0;37m<stdin>:34: \u001b[0m\u001b[1;31mFAILED:\n",
      "\u001b[0m\u001b[0;36m  REQUIRE( scott == bjarne )\n",
      "\u001b[0mwith expansion:\n",
      "\u001b[0;33m  { Scott Meyers, age: 49, weight: 68.9, size: 189 }\n",
      "  ==\n",
      "  { Bjarne Stroustrup, age: 64, weight: 84.1, size: 170 }\n",
      "\u001b[0m\n",
      "\u001b[1;31m===============================================================================\u001b[0m\u001b[0;33m\u001b[0m\u001b[0;32m\u001b[0m\n",
      "test cases: 1\u001b[0;37m | \u001b[0m\u001b[1;31m1 failed\u001b[0m\n",
      "assertions: 1\u001b[0;37m | \u001b[0m\u001b[1;31m1 failed\u001b[0m\n",
      "\n"
     ]
    }
   ],
   "source": [
    "%%bash\n",
    "cat <<EOF | clang++ -Wall -Werror -pedantic -x c++ - -o test03 && ./test03 --use-colour yes\n",
    "#define CATCH_CONFIG_MAIN\n",
    "#include <catch.hpp>\n",
    "\n",
    "#include <string>\n",
    "\n",
    "struct OperatorDemo {\n",
    "    std::string name;\n",
    "    double weight;\n",
    "    int age;\n",
    "    int size;\n",
    "\n",
    "    bool operator==(const OperatorDemo& other) {\n",
    "        return name == other.name &&\n",
    "               weight == other.weight &&\n",
    "               age == other.age &&\n",
    "               size == other.size;\n",
    "    }\n",
    "};\n",
    "\n",
    "std::ostream& operator<<(std::ostream& os, const OperatorDemo& o) {\n",
    "    return os << \"{ \"\n",
    "              << o.name\n",
    "              << \", age: \" << o.age\n",
    "              << \", weight: \" << o.weight\n",
    "              << \", size: \" << o.size\n",
    "              << \" }\";\n",
    "}\n",
    "\n",
    "TEST_CASE(\"Our C++ heroes are unique\") {\n",
    "    // just guessing ;)\n",
    "    OperatorDemo scott = {\"Scott Meyers\", 68.9, 49, 189};\n",
    "    OperatorDemo bjarne = {\"Bjarne Stroustrup\", 84.1, 64, 170};\n",
    "\n",
    "    REQUIRE(scott == bjarne);\n",
    "}\n",
    "EOF"
   ]
  },
  {
   "cell_type": "markdown",
   "metadata": {
    "slideshow": {
     "slide_type": "slide"
    }
   },
   "source": [
    "## Integration with Mock frameworks"
   ]
  },
  {
   "cell_type": "markdown",
   "metadata": {
    "slideshow": {
     "slide_type": "subslide"
    }
   },
   "source": [
    "### Example 1: Trompeloeil"
   ]
  },
  {
   "cell_type": "code",
   "execution_count": 10,
   "metadata": {
    "collapsed": false
   },
   "outputs": [
    {
     "name": "stdout",
     "output_type": "stream",
     "text": [
      "\n",
      "~~~~~~~~~~~~~~~~~~~~~~~~~~~~~~~~~~~~~~~~~~~~~~~~~~~~~~~~~~~~~~~~~~~~~~~~~~~~~~~\n",
      "\u001b[0;37mtrompeloeil is a Catch v1.4.0 host application.\n",
      "Run with -? for options\n",
      "\n",
      "\u001b[0m-------------------------------------------------------------------------------\n",
      "\u001b[0mexercise interface func\n",
      "\u001b[0m-------------------------------------------------------------------------------\n",
      "\u001b[0;37m<stdin>:31\n",
      "\u001b[0m...............................................................................\n",
      "\n",
      "\u001b[0;37m<stdin>:31: \u001b[0m\u001b[1;31mFAILED:\n",
      "\u001b[0mdue to a fatal error condition:\n",
      "  SIGABRT - Abort (abnormal termination) signal\n",
      "\n",
      "\u001b[1;31m===============================================================================\u001b[0m\u001b[0;33m\u001b[0m\u001b[0;32m\u001b[0m\n",
      "test cases: 1\u001b[0;37m | \u001b[0m\u001b[1;31m1 failed\u001b[0m\n",
      "assertions: 1\u001b[0;37m | \u001b[0m\u001b[1;31m1 failed\u001b[0m\n",
      "\n"
     ]
    },
    {
     "name": "stderr",
     "output_type": "stream",
     "text": [
      "terminate called after throwing an instance of 'trompeloeil::expectation_violation'\n",
      "  what():  <stdin>:54\n",
      "Unfulfilled expectation:\n",
      "Expected m.foo(gt(2), _) to be called once, actually never called\n",
      "  param  _1 > 2\n",
      "  param  _2\n",
      "\n"
     ]
    }
   ],
   "source": [
    "%%bash\n",
    "cat <<EOF | clang++ -std=c++14 -Wall -Werror -pedantic -x c++ - -o trompeloeil && ./trompeloeil --use-colour yes\n",
    "#define CATCH_CONFIG_MAIN\n",
    "#include <catch.hpp>\n",
    "\n",
    "#include <string>\n",
    "#include <trompeloeil.hpp>\n",
    "\n",
    "class Interface\n",
    "{\n",
    "public:\n",
    "  virtual bool foo(int, std::string& s) = 0;\n",
    "  virtual bool bar(int) = 0;\n",
    "  virtual bool bar(std::string) = 0;\n",
    "};\n",
    "\n",
    "void interface_func(Interface*); // function to test\n",
    "\n",
    "void interface_func(Interface* i) {\n",
    "    std::string s;\n",
    "    i->bar(\"word\");\n",
    "    i->foo(3, s);\n",
    "}\n",
    "\n",
    "class Mock : public Interface\n",
    "{\n",
    "public:\n",
    "  MAKE_MOCK2(foo, bool(int, std::string&));\n",
    "  MAKE_MOCK1(bar, bool(int));\n",
    "  MAKE_MOCK1(bar, bool(std::string));\n",
    "};\n",
    "\n",
    "TEST_CASE(\"exercise interface func\", \"[mock]\")\n",
    "{\n",
    "  using trompeloeil::_;  // wild card for matching any value\n",
    "  using trompeloeil::gt; // greater-than match\n",
    "\n",
    "  Mock m;\n",
    "\n",
    "  trompeloeil::sequence seq1, seq2;  // control order of matching calls\n",
    "\n",
    "  int local_var = 0;\n",
    "\n",
    "  REQUIRE_CALL(m, bar(ANY(int)))     // expect call to m.bar(int)\n",
    "    .LR_SIDE_EFFECT(local_var = _1)  // set captured variable to value of param\n",
    "    .RETURN(_1 > 0)                  // return value depending on param value\n",
    "    .IN_SEQUENCE(seq1)               // must be first match for seq1\n",
    "    .TIMES(AT_LEAST(1));             // can be called several times\n",
    "\n",
    "  FORBID_CALL(m, bar(0));            // but m.bar(0) is not allowed\n",
    "\n",
    "  REQUIRE_CALL(m, bar(\"word\"))       // expect one call to m.bar(std::string)\n",
    "    .RETURN(true)\n",
    "    .IN_SEQUENCE(seq2);              // must be first match for seq2\n",
    "\n",
    "  REQUIRE_CALL(m, foo(gt(2), _))     // expect call to foo(int,std::string&)\n",
    "    .WITH(_2 == \"\")                  // with int > 2 and empty string\n",
    "    .IN_SEQUENCE(seq1, seq2)         // last for both seq1 and seq2\n",
    "    .SIDE_EFFECT(_2 = \"cat\")         // and set param string to \"cat\"\n",
    "    .RETURN(true);\n",
    "\n",
    "  interface_func(&m);\n",
    "\n",
    "  // all the above expectations must be fulfilled here\n",
    "}\n",
    "EOF"
   ]
  },
  {
   "cell_type": "markdown",
   "metadata": {
    "slideshow": {
     "slide_type": "skip"
    }
   },
   "source": [
    "```cpp\n",
    "#define CATCH_CONFIG_RUNNER\n",
    "#include <catch.hpp>\n",
    "\n",
    "#include <string>\n",
    "#include <trompeloeil.hpp>\n",
    "\n",
    "int main(int argc, char* argv[]) {\n",
    "    trompeloeil::set_reporter([](::trompeloeil::severity s,\n",
    "                               char const *file,\n",
    "                               unsigned long line,\n",
    "                               const std::string& msg)\n",
    "    {\n",
    "      std::ostringstream os;\n",
    "      if (line) os << file << ':' << line << '\\n';\n",
    "      os << msg;\n",
    "      if (s == ::trompeloeil::severity::fatal)\n",
    "        {\n",
    "          FAIL(os.str());\n",
    "        }\n",
    "      CHECK(os.str() == \"\");\n",
    "    });\n",
    "\n",
    "    return Catch::Session().run(argc, argv);\n",
    "}\n",
    "\n",
    "class Interface\n",
    "{\n",
    "public:\n",
    "  virtual bool foo(int, std::string& s) = 0;\n",
    "  virtual bool bar(int) = 0;\n",
    "  virtual bool bar(std::string) = 0;\n",
    "};\n",
    "\n",
    "void interface_func(Interface*); // function to test\n",
    "\n",
    "void interface_func(Interface* i) {\n",
    "    std::string s;\n",
    "    i->bar(3);\n",
    "    i->bar(\"word\");\n",
    "    i->foo(3, s);\n",
    "}\n",
    "\n",
    "class Mock : public Interface\n",
    "{\n",
    "public:\n",
    "  MAKE_MOCK2(foo, bool(int, std::string&));\n",
    "  MAKE_MOCK1(bar, bool(int));\n",
    "  MAKE_MOCK1(bar, bool(std::string));\n",
    "};\n",
    "\n",
    "TEST_CASE(\"exercise interface func\", \"[mock]\")\n",
    "{\n",
    "  using trompeloeil::_;  // wild card for matching any value\n",
    "  using trompeloeil::gt; // greater-than match\n",
    "\n",
    "  Mock m;\n",
    "\n",
    "  trompeloeil::sequence seq1, seq2;  // control order of matching calls\n",
    "\n",
    "  int local_var = 0;\n",
    "\n",
    "  REQUIRE_CALL(m, bar(ANY(int)))     // expect call to m.bar(int)\n",
    "    .LR_SIDE_EFFECT(local_var = _1)  // set captured variable to value of param\n",
    "    .RETURN(_1 > 0)                  // return value depending on param value\n",
    "    .IN_SEQUENCE(seq1)               // must be first match for seq1\n",
    "    .TIMES(AT_LEAST(1));             // can be called several times\n",
    "\n",
    "  FORBID_CALL(m, bar(0));            // but m.bar(0) is not allowed\n",
    "\n",
    "  REQUIRE_CALL(m, bar(\"word\"))       // expect one call to m.bar(std::string)\n",
    "    .RETURN(true)\n",
    "    .IN_SEQUENCE(seq2);              // must be first match for seq2\n",
    "\n",
    "  REQUIRE_CALL(m, foo(gt(2), _))     // expect call to foo(int,std::string&)\n",
    "    .WITH(_2 == \"\")                  // with int > 2 and empty string\n",
    "    .IN_SEQUENCE(seq1, seq2)         // last for both seq1 and seq2\n",
    "    .SIDE_EFFECT(_2 = \"cat\")         // and set param string to \"cat\"\n",
    "    .RETURN(true);\n",
    "\n",
    "  interface_func(&m);\n",
    "\n",
    "  // all the above expectations must be fulfilled here\n",
    "}\n",
    "```"
   ]
  },
  {
   "cell_type": "markdown",
   "metadata": {
    "slideshow": {
     "slide_type": "slide"
    }
   },
   "source": [
    "```diff\n",
    "diff --git a/test/DemonstrateIntegrationWithTrompeloeil.cpp b/test/DemonstrateIntegrationWithTrompeloeil.cpp\n",
    "index d25571e..39d2fc6 100644\n",
    "--- a/test/DemonstrateIntegrationWithTrompeloeil.cpp\n",
    "+++ b/test/DemonstrateIntegrationWithTrompeloeil.cpp\n",
    "@@ -1,7 +1,86 @@\n",
    "-#define CATCH_CONFIG_MAIN\n",
    "+#define CATCH_CONFIG_RUNNER\n",
    " #include <catch.hpp>\n",
    "\n",
    " #include <string>\n",
    "+#include <trompeloeil.hpp>\n",
    "+\n",
    "+int main(int argc, char* argv[]) {\n",
    "+    trompeloeil::set_reporter([](::trompeloeil::severity s,\n",
    "+                               char const *file,\n",
    "+                               unsigned long line,\n",
    "+                               const std::string& msg)\n",
    "+    {\n",
    "+      std::ostringstream os;\n",
    "+      if (line) os << file << ':' << line << '\\n';\n",
    "+      os << msg;\n",
    "+      if (s == ::trompeloeil::severity::fatal)\n",
    "+        {\n",
    "+          FAIL(os.str());\n",
    "+        }\n",
    "+      CHECK(os.str() == \"\");\n",
    "+    });\n",
    "+\n",
    "+    return Catch::Session().run(argc, argv);\n",
    "+}\n",
    "```"
   ]
  },
  {
   "cell_type": "markdown",
   "metadata": {
    "slideshow": {
     "slide_type": "fragment"
    }
   },
   "source": [
    "https://github.com/rollbear/trompeloeil/blob/master/docs/CookBook.md#adapt_catch"
   ]
  },
  {
   "cell_type": "code",
   "execution_count": 11,
   "metadata": {
    "collapsed": false,
    "slideshow": {
     "slide_type": "slide"
    }
   },
   "outputs": [
    {
     "name": "stdout",
     "output_type": "stream",
     "text": [
      "\n",
      "~~~~~~~~~~~~~~~~~~~~~~~~~~~~~~~~~~~~~~~~~~~~~~~~~~~~~~~~~~~~~~~~~~~~~~~~~~~~~~~\n",
      "\u001b[0;37mtrompeloeilInt is a Catch v1.4.0 host application.\n",
      "Run with -? for options\n",
      "\n",
      "\u001b[0m-------------------------------------------------------------------------------\n",
      "\u001b[0mexercise interface func\n",
      "\u001b[0m-------------------------------------------------------------------------------\n",
      "\u001b[0;37m<stdin>:50\n",
      "\u001b[0m...............................................................................\n",
      "\n",
      "\u001b[0;37m<stdin>:18: \u001b[0m\u001b[1;31mFAILED:\n",
      "\u001b[0mexplicitly with message:\n",
      "  <stdin>:73\n",
      "  Sequence mismatch for sequence \"seq1\" with matching call of m.foo(gt(2), _)\n",
      "  at <stdin>:73. Sequence \"seq1\" has m.bar(ANY(int)) at <stdin>:61 first in\n",
      "  line\n",
      "  \n",
      "\n",
      "\u001b[0;37m<stdin>:20: \u001b[0m\u001b[1;31mFAILED:\n",
      "\u001b[0m\u001b[0;36m  CHECK( os.str() == \"\" )\n",
      "\u001b[0mwith expansion:\n",
      "\u001b[0;33m  \"<stdin>:73\n",
      "  Unfulfilled expectation:\n",
      "  Expected m.foo(gt(2), _) to be called once, actually never called\n",
      "    param  _1 > 2\n",
      "    param  _2\n",
      "  \"\n",
      "  ==\n",
      "  \"\"\n",
      "\u001b[0m\n",
      "\u001b[0;37m<stdin>:20: \u001b[0m\u001b[1;31mFAILED:\n",
      "\u001b[0m\u001b[0;36m  CHECK( os.str() == \"\" )\n",
      "\u001b[0mwith expansion:\n",
      "\u001b[0;33m  \"<stdin>:61\n",
      "  Unfulfilled expectation:\n",
      "  Expected m.bar(ANY(int)) to be called once, actually never called\n",
      "    param  _1\n",
      "  \"\n",
      "  ==\n",
      "  \"\"\n",
      "\u001b[0m\n",
      "\u001b[1;31m===============================================================================\u001b[0m\u001b[0;33m\u001b[0m\u001b[0;32m\u001b[0m\n",
      "test cases: 1\u001b[0;37m | \u001b[0m\u001b[1;31m1 failed\u001b[0m\n",
      "assertions: 3\u001b[0;37m | \u001b[0m\u001b[1;31m3 failed\u001b[0m\n",
      "\n"
     ]
    }
   ],
   "source": [
    "%%bash\n",
    "cat <<EOF | clang++ -std=c++14 -Wall -Werror -pedantic -x c++ - -o trompeloeilInt && ./trompeloeilInt --use-colour yes\n",
    "#define CATCH_CONFIG_RUNNER\n",
    "#include <catch.hpp>\n",
    "\n",
    "#include <string>\n",
    "#include <trompeloeil.hpp>\n",
    "\n",
    "int main(int argc, char* argv[]) {\n",
    "    trompeloeil::set_reporter([](::trompeloeil::severity s,\n",
    "                               char const *file,\n",
    "                               unsigned long line,\n",
    "                               const std::string& msg)\n",
    "    {\n",
    "      std::ostringstream os;\n",
    "      if (line) os << file << ':' << line << '\\n';\n",
    "      os << msg;\n",
    "      if (s == ::trompeloeil::severity::fatal)\n",
    "        {\n",
    "          FAIL(os.str());\n",
    "        }\n",
    "      CHECK(os.str() == \"\");\n",
    "    });\n",
    "\n",
    "    return Catch::Session().run(argc, argv);\n",
    "}\n",
    "\n",
    "class Interface\n",
    "{\n",
    "public:\n",
    "  virtual bool foo(int, std::string& s) = 0;\n",
    "  virtual bool bar(int) = 0;\n",
    "  virtual bool bar(std::string) = 0;\n",
    "};\n",
    "\n",
    "void interface_func(Interface*); // function to test\n",
    "\n",
    "void interface_func(Interface* i) {\n",
    "    std::string s;\n",
    "    i->bar(\"word\");\n",
    "    i->foo(3, s);\n",
    "}\n",
    "\n",
    "class Mock : public Interface\n",
    "{\n",
    "public:\n",
    "  MAKE_MOCK2(foo, bool(int, std::string&));\n",
    "  MAKE_MOCK1(bar, bool(int));\n",
    "  MAKE_MOCK1(bar, bool(std::string));\n",
    "};\n",
    "\n",
    "TEST_CASE(\"exercise interface func\", \"[mock]\")\n",
    "{\n",
    "  using trompeloeil::_;  // wild card for matching any value\n",
    "  using trompeloeil::gt; // greater-than match\n",
    "\n",
    "  Mock m;\n",
    "\n",
    "  trompeloeil::sequence seq1, seq2;  // control order of matching calls\n",
    "\n",
    "  int local_var = 0;\n",
    "\n",
    "  REQUIRE_CALL(m, bar(ANY(int)))     // expect call to m.bar(int)\n",
    "    .LR_SIDE_EFFECT(local_var = _1)  // set captured variable to value of param\n",
    "    .RETURN(_1 > 0)                  // return value depending on param value\n",
    "    .IN_SEQUENCE(seq1)               // must be first match for seq1\n",
    "    .TIMES(AT_LEAST(1));             // can be called several times\n",
    "\n",
    "  FORBID_CALL(m, bar(0));            // but m.bar(0) is not allowed\n",
    "\n",
    "  REQUIRE_CALL(m, bar(\"word\"))       // expect one call to m.bar(std::string)\n",
    "    .RETURN(true)\n",
    "    .IN_SEQUENCE(seq2);              // must be first match for seq2\n",
    "\n",
    "  REQUIRE_CALL(m, foo(gt(2), _))     // expect call to foo(int,std::string&)\n",
    "    .WITH(_2 == \"\")                  // with int > 2 and empty string\n",
    "    .IN_SEQUENCE(seq1, seq2)         // last for both seq1 and seq2\n",
    "    .SIDE_EFFECT(_2 = \"cat\")         // and set param string to \"cat\"\n",
    "    .RETURN(true);\n",
    "\n",
    "  interface_func(&m);\n",
    "\n",
    "  // all the above expectations must be fulfilled here\n",
    "}\n",
    "EOF"
   ]
  },
  {
   "cell_type": "markdown",
   "metadata": {
    "slideshow": {
     "slide_type": "slide"
    }
   },
   "source": [
    "### Example 2: Google Mock"
   ]
  },
  {
   "cell_type": "code",
   "execution_count": 12,
   "metadata": {
    "collapsed": false,
    "scrolled": false,
    "slideshow": {
     "slide_type": "subslide"
    }
   },
   "outputs": [
    {
     "name": "stdout",
     "output_type": "stream",
     "text": [
      "<stdin>:41: Failure\n",
      "Actual function call count doesn't match EXPECT_CALL(foo, Describe(5))...\n",
      "         Expected: to be called 3 times\n",
      "           Actual: called twice - unsatisfied and active\n",
      "\u001b[1;31m\u001b[0m\u001b[0;33m\u001b[0m\u001b[1;32m===============================================================================\u001b[0m\n",
      "test cases: 1\u001b[0;37m | \u001b[0m\u001b[0;32m1 passed\u001b[0m\n",
      "assertions: \u001b[0;33m- none -\u001b[0m\n",
      "\n"
     ]
    }
   ],
   "source": [
    "%%bash\n",
    "cat <<EOF | clang++ -Wall -Werror -pedantic -x c++ - -o gmock -pthread -lgmock -lgmock_main -lgtest -lgtest_main && ./gmock --use-colour yes\n",
    "#define CATCH_CONFIG_MAIN\n",
    "#include <catch.hpp>\n",
    "#include <gmock/gmock.h>\n",
    "\n",
    "#include <string>\n",
    "\n",
    "class Foo {\n",
    "public:\n",
    "  virtual ~Foo() {}\n",
    "  virtual int GetSize() const = 0;\n",
    "  virtual std::string Describe(const char* name) = 0;\n",
    "  virtual std::string Describe(int type) = 0;\n",
    "//  virtual bool Process(Bar elem, int count) = 0;\n",
    "};\n",
    "\n",
    "class MockFoo : public Foo {\n",
    "public:\n",
    "  MOCK_CONST_METHOD0(GetSize, int());\n",
    "  MOCK_METHOD1(Describe, std::string(const char* name));\n",
    "  MOCK_METHOD1(Describe, std::string(int type));\n",
    "//  MOCK_METHOD2(Process, bool(Bar elem, int count));\n",
    "};\n",
    "\n",
    "std::string MyProductionFunction(Foo* f) {\n",
    "    for (int i = 0; i < 2; ++i) {\n",
    "        f->Describe(5);\n",
    "    }\n",
    "    return \"good\";\n",
    "}\n",
    "\n",
    "using ::testing::Return;\n",
    "\n",
    "TEST_CASE(\"GoogleMock\", \"[mock]\") {\n",
    "  MockFoo foo;                                    // #2\n",
    "  //testing::StrictMock<MockFoo> foo;             // The type is a subclass of MockFoo.\n",
    "\n",
    "  ON_CALL(foo, GetSize())                         // #3\n",
    "      .WillByDefault(Return(1));\n",
    "  // ... other default actions ...\n",
    "\n",
    "  EXPECT_CALL(foo, Describe(5))                   // #4\n",
    "      .Times(3)\n",
    "      .WillRepeatedly(Return(\"Category 5\"));\n",
    "  // ... other expectations ...\n",
    "\n",
    "  EXPECT_EQ(\"good\", MyProductionFunction(&foo));  // #5\n",
    "}\n",
    "EOF"
   ]
  },
  {
   "cell_type": "markdown",
   "metadata": {
    "slideshow": {
     "slide_type": "slide"
    }
   },
   "source": [
    "```diff\n",
    "diff --git a/test/DemonstrateIntegrationWithGMock.cpp.cpp b/test/DemonstrateIntegrationWithGMock.cpp.cpp\n",
    "index d25571e..bcedd62 100644\n",
    "--- a/test/DemonstrateIntegrationWithGMock.cpp.cpp\n",
    "+++ b/test/DemonstrateIntegrationWithGMock.cpp.cpp\n",
    "@@ -1,8 +1,90 @@\n",
    "-#define CATCH_CONFIG_MAIN\n",
    "+#define CATCH_CONFIG_RUNNER\n",
    " #include <catch.hpp>\n",
    "+#include <gmock/gmock.h>\n",
    " \n",
    " #include <string>\n",
    " \n",
    "+class MinimalistPrinter : public ::testing::EmptyTestEventListener {\n",
    "+    // Called before a test starts.\n",
    "+    virtual void OnTestStart(const ::testing::TestInfo& test_info) {\n",
    "+    }\n",
    "+\n",
    "+    // Called after a failed assertion or a SUCCEED() invocation.\n",
    "+    virtual void OnTestPartResult(\n",
    "+        const ::testing::TestPartResult& test_part_result) {\n",
    "+      std::ostringstream os;\n",
    "+      if (test_part_result.line_number()) {\n",
    "+        os << test_part_result.file_name()\n",
    "+           << ':' << test_part_result.line_number() << '\\n';\n",
    "+      }\n",
    "+      os << test_part_result.summary();\n",
    "+      if(test_part_result.failed()) {\n",
    "+        FAIL(os.str());\n",
    "+      } else {\n",
    "+        CHECK(os.str() == \"\");\n",
    "+      }\n",
    "+    }\n",
    "+\n",
    "+    // Called after a test ends.\n",
    "+    virtual void OnTestEnd(const ::testing::TestInfo& test_info) {\n",
    "+    }\n",
    "+};\n",
    "+\n",
    "+int main(int argc, char* argv[]) {\n",
    "+\n",
    "+    ::testing::TestEventListeners& listeners =\n",
    "+        ::testing::UnitTest::GetInstance()->listeners();\n",
    "+    // drop the default printer to prevent duplicate output\n",
    "+    delete listeners.Release(listeners.default_result_printer());\n",
    "+    // Adds a listener to the end.  Google Test takes the ownership.\n",
    "+    listeners.Append(new MinimalistPrinter);\n",
    "+\n",
    "+    return Catch::Session().run(argc, argv);\n",
    "+}\n",
    "```"
   ]
  },
  {
   "cell_type": "markdown",
   "metadata": {
    "slideshow": {
     "slide_type": "fragment"
    }
   },
   "source": [
    "https://github.com/google/googletest/blob/master/googletest/docs/AdvancedGuide.md#extending-google-test-by-handling-test-events\n",
    "https://github.com/google/googletest/blob/master/googlemock/docs/ForDummies.md#using-google-mock-with-any-testing-framework"
   ]
  },
  {
   "cell_type": "code",
   "execution_count": 13,
   "metadata": {
    "collapsed": false,
    "slideshow": {
     "slide_type": "slide"
    }
   },
   "outputs": [
    {
     "name": "stdout",
     "output_type": "stream",
     "text": [
      "\n",
      "~~~~~~~~~~~~~~~~~~~~~~~~~~~~~~~~~~~~~~~~~~~~~~~~~~~~~~~~~~~~~~~~~~~~~~~~~~~~~~~\n",
      "\u001b[0;37mgmockInt is a Catch v1.4.0 host application.\n",
      "Run with -? for options\n",
      "\n",
      "\u001b[0m-------------------------------------------------------------------------------\n",
      "\u001b[0mGoogleMock\n",
      "\u001b[0m-------------------------------------------------------------------------------\n",
      "\u001b[0;37m<stdin>:71\n",
      "\u001b[0m...............................................................................\n",
      "\n",
      "\u001b[0;37m<stdin>:22: \u001b[0m\u001b[1;31mFAILED:\n",
      "\u001b[0mexplicitly with message:\n",
      "  <stdin>:79\n",
      "  Actual function call count doesn't match EXPECT_CALL(foo, Describe(5))...\n",
      "           Expected: to be called 3 times\n",
      "             Actual: called twice - unsatisfied and active\n",
      "\n",
      "\u001b[1;31m========================================\u001b[0m\u001b[0;33m\u001b[0m\u001b[0;32m=======================================\u001b[0m\n",
      "test cases: 2\u001b[0;37m | \u001b[0m\u001b[0;32m1 passed\u001b[0m\u001b[0;37m | \u001b[0m\u001b[1;31m1 failed\u001b[0m\n",
      "assertions: 2\u001b[0;37m | \u001b[0m\u001b[0;32m1 passed\u001b[0m\u001b[0;37m | \u001b[0m\u001b[1;31m1 failed\u001b[0m\n",
      "\n",
      "\n",
      "<stdin>:75: ERROR: this mock object should be deleted but never is. Its address is @0x7ffe8224e440.\n",
      "ERROR: 1 leaked mock object found at program exit.\n"
     ]
    }
   ],
   "source": [
    "%%bash\n",
    "cat <<EOF | clang++ -DGTEST_DONT_DEFINE_FAIL -DGTEST_DONT_DEFINE_SUCCEED -Wall -Werror -pedantic -x c++ - -o gmockInt -pthread -lgmock -lgmock_main -lgtest -lgtest_main && ./gmockInt --use-colour yes\n",
    "#define CATCH_CONFIG_RUNNER\n",
    "#include <catch.hpp>\n",
    "#include <gmock/gmock.h>\n",
    "\n",
    "#include <string>\n",
    "\n",
    "class MinimalistPrinter : public ::testing::EmptyTestEventListener {\n",
    "    // Called before a test starts.\n",
    "    virtual void OnTestStart(const ::testing::TestInfo& test_info) {\n",
    "    }\n",
    "\n",
    "    // Called after a failed assertion or a SUCCEED() invocation.\n",
    "    virtual void OnTestPartResult(\n",
    "        const ::testing::TestPartResult& test_part_result) {\n",
    "      std::ostringstream os;\n",
    "      if (test_part_result.line_number()) {\n",
    "        os << test_part_result.file_name()\n",
    "           << ':' << test_part_result.line_number() << '\\n';\n",
    "      }\n",
    "      os << test_part_result.summary();\n",
    "      if(test_part_result.failed()) {\n",
    "        FAIL(os.str());\n",
    "      } else {\n",
    "        CHECK(os.str() == \"\");\n",
    "      }\n",
    "    }\n",
    "\n",
    "    // Called after a test ends.\n",
    "    virtual void OnTestEnd(const ::testing::TestInfo& test_info) {\n",
    "    }\n",
    "};\n",
    "\n",
    "int main(int argc, char* argv[]) {\n",
    "\n",
    "    ::testing::TestEventListeners& listeners =\n",
    "        ::testing::UnitTest::GetInstance()->listeners();\n",
    "    // drop the default printer to prevent duplicate output\n",
    "    delete listeners.Release(listeners.default_result_printer());\n",
    "    // Adds a listener to the end.  Google Test takes the ownership.\n",
    "    listeners.Append(new MinimalistPrinter);\n",
    "\n",
    "    return Catch::Session().run(argc, argv);\n",
    "}\n",
    "\n",
    "class Foo {\n",
    "public:\n",
    "  virtual ~Foo() {}\n",
    "  virtual int GetSize() const = 0;\n",
    "  virtual std::string Describe(const char* name) = 0;\n",
    "  virtual std::string Describe(int type) = 0;\n",
    "//  virtual bool Process(Bar elem, int count) = 0;\n",
    "};\n",
    "\n",
    "class MockFoo : public Foo {\n",
    "public:\n",
    "  MOCK_CONST_METHOD0(GetSize, int());\n",
    "  MOCK_METHOD1(Describe, std::string(const char* name));\n",
    "  MOCK_METHOD1(Describe, std::string(int type));\n",
    "//  MOCK_METHOD2(Process, bool(Bar elem, int count));\n",
    "};\n",
    "\n",
    "std::string MyProductionFunction(Foo* f) {\n",
    "    for (int i = 0; i < 2; ++i) {\n",
    "        f->Describe(5);\n",
    "    }\n",
    "    return \"good\";\n",
    "}\n",
    "\n",
    "using ::testing::Return;\n",
    "\n",
    "TEST_CASE(\"GoogleMock\", \"[mock]\") {\n",
    "  MockFoo foo;                                    // #2\n",
    "  //testing::StrictMock<MockFoo> foo;             // The type is a subclass of MockFoo.\n",
    "\n",
    "  ON_CALL(foo, GetSize())                         // #3\n",
    "      .WillByDefault(Return(1));\n",
    "  // ... other default actions ...\n",
    "\n",
    "  EXPECT_CALL(foo, Describe(5))                   // #4\n",
    "      .Times(3)\n",
    "      .WillRepeatedly(Return(\"Category 5\"));\n",
    "  // ... other expectations ...\n",
    "\n",
    "  EXPECT_EQ(\"good\", MyProductionFunction(&foo));  // #5\n",
    "}\n",
    "\n",
    "TEST_CASE(\"A usual Catch test\") {\n",
    "    REQUIRE(std::string(\"Hello World\").length() == 11);\n",
    "}\n",
    "EOF"
   ]
  },
  {
   "cell_type": "markdown",
   "metadata": {
    "slideshow": {
     "slide_type": "slide"
    }
   },
   "source": [
    "## Arbitrary closing thoughts\n",
    "\n",
    "* matchers in Catch are WIP\n",
    "    + almost no documentation\n",
    "    + have a look into the code\n",
    "* [Catch documentation: precompiled header](https://github.com/philsquared/Catch/blob/master/docs/slow-compiles.md)\n",
    "* [Reddit: Most Popular C++ Unit Testing Frameworks](https://www.reddit.com/r/cpp/comments/4e9afx/most_popular_c_unit_testing_frameworks/)\n",
    "* Boost.Test got revived recently\n",
    "    + got a new documentation\n",
    "    + data-driven tests (more to come in 1.61.0)\n",
    "    "
   ]
  }
 ],
 "metadata": {
  "celltoolbar": "Slideshow",
  "kernelspec": {
   "display_name": "Python 3",
   "language": "python",
   "name": "python3"
  },
  "language_info": {
   "codemirror_mode": {
    "name": "ipython",
    "version": 3
   },
   "file_extension": ".py",
   "mimetype": "text/x-python",
   "name": "python",
   "nbconvert_exporter": "python",
   "pygments_lexer": "ipython3",
   "version": "3.4.3"
  }
 },
 "nbformat": 4,
 "nbformat_minor": 0
}
