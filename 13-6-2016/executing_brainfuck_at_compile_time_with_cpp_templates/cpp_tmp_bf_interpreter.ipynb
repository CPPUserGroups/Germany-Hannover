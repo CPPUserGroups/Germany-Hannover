{
 "cells": [
  {
   "cell_type": "markdown",
   "metadata": {
    "slideshow": {
     "slide_type": "slide"
    }
   },
   "source": [
    "# Executing Brainfuck at Compile Time with C++ Templates\n",
    "\n",
    "13.06.2016, C++ User Group Hannover\n",
    "\n",
    "\n",
    "Jacek Galowicz ([jacek@galowicz.de](mailto:jacek@galowicz.de))"
   ]
  },
  {
   "cell_type": "markdown",
   "metadata": {
    "slideshow": {
     "slide_type": "slide"
    }
   },
   "source": [
    "## Content\n",
    "\n",
    "I will show you how to implement a brainfuck interpreter, which runs your own brainfuck programs in the C++ compiler, at compile time.\n",
    "\n",
    "### Talk sections\n",
    "\n",
    "- Short intro to Brainfuck\n",
    "- Compile Time Type Lists\n",
    "- The Turing Tape\n",
    "- The Turing Machine State\n",
    "- Interpreting BF Commands\n",
    "- Reaching today's climax of complicatedness: Loops\n",
    "- Live Demo\n",
    "- Summary\n"
   ]
  },
  {
   "cell_type": "markdown",
   "metadata": {
    "slideshow": {
     "slide_type": "slide"
    }
   },
   "source": [
    "# Brainfuck\n",
    "\n",
    "It's an esoteric programming language, and was created for fun in 1993 by Urban Müller. [Wikipedia Link](https://en.wikipedia.org/wiki/Brainfuck)\n",
    "\n",
    "- Brainfuck programs are composed of only 8 operators, and assume to operate on a Brainfuck Machine.\n",
    "- A Brainfuck machine looks like a Turing machine: It has a cursor, which sits on a tape, which consists of infinitely many memory cells.\n",
    "\n",
    "|Operator|Meaning|\n",
    "|:------:|-------|\n",
    "|`+`|Increment the value of the memory cell at data cursor position|\n",
    "|`-`|Increment the value of the memory cell at data cursor position|\n",
    "|`<`|Move the data cursor one cell further to the left|\n",
    "|`>`|Move the data cursor one cell further to the right|\n",
    "|`.`|Print the value at data cursor position|\n",
    "|`,`|Read a value, and assign it to the memory cell at data cursor position|\n",
    "|`[`|Beginning of a loop. Execute it, if the data cursor value is not 0. Skip the whole loop, if it is 0.|\n",
    "|`]`|End of a loop. Move program cursor to beginning of the loop.|\n",
    "\n",
    "Any other character in a brainfuck program is ignored (Spaces can be used for nicer to read indentation etc.)"
   ]
  },
  {
   "cell_type": "markdown",
   "metadata": {
    "slideshow": {
     "slide_type": "slide"
    }
   },
   "source": [
    "# Brainfuck Examples\n",
    "\n",
    "\n",
    "\n"
   ]
  },
  {
   "cell_type": "markdown",
   "metadata": {
    "slideshow": {
     "slide_type": "subslide"
    }
   },
   "source": [
    "## Simple Print Loop\n",
    "\n",
    "The following program reads a value from the user, then prints and decrements it in a loop:\n",
    "\n",
    "```\n",
    ",[.-]\n",
    "```\n",
    "\n",
    "Output: (Assuming the user enters the character `z`)\n",
    "```\n",
    "zyxwvutsrqponmlkjihgfedcba`_^]\\[ZYXWVUTSRQPONMLKJIHGFEDCBA@?>=<;:9876543210/.-,+*)('&%$#\"!\n",
    "```"
   ]
  },
  {
   "cell_type": "markdown",
   "metadata": {
    "slideshow": {
     "slide_type": "subslide"
    }
   },
   "source": [
    "## Hello World\n",
    "\n",
    "The following program reads a value from the user, then prints and decrements it in a loop:\n",
    "\n",
    "```\n",
    "++++++++++[>+++++++>++++++++++>+++>+<<<<-]>++.>+.+++++++..+++.>++.<<+++++++++++++++.>.+++.------.--------.>+.>.+++.\n",
    "```\n",
    "\n",
    "Output: (Assuming the user enters the character `z`)\n",
    "```\n",
    "Hello World!\n",
    "```"
   ]
  },
  {
   "cell_type": "markdown",
   "metadata": {
    "slideshow": {
     "slide_type": "slide"
    }
   },
   "source": [
    "# Compile Time Typelists\n",
    "\n",
    "The nested typelist\n",
    "\n",
    "\n",
    "\n",
    "``` c++\n",
    "struct null_t {};\n",
    "\n",
    "template <typename T, typename U>\n",
    "struct tl\n",
    "{\n",
    "    using head = T;\n",
    "    using tail = U;\n",
    "};\n",
    "\n",
    "using my_list = tl<Type1, \n",
    "                   tl<Type2, \n",
    "                      tl<Type3, \n",
    "                         null_t\n",
    "                         >\n",
    "                      > \n",
    "                   >;\n",
    "```"
   ]
  },
  {
   "cell_type": "markdown",
   "metadata": {
    "slideshow": {
     "slide_type": "slide"
    }
   },
   "source": [
    "# Translating from C Strings to compile time lists\n",
    "\n"
   ]
  },
  {
   "cell_type": "markdown",
   "metadata": {
    "slideshow": {
     "slide_type": "subslide"
    }
   },
   "source": [
    "## Required: String --> Typelist\n",
    "\n",
    "We need to represent user input as a list, in order to work with it:\n",
    "\n",
    "``` c++\n",
    "template <char val> struct char_t { \n",
    "    static const constexpr char value {val};\n",
    "};\n",
    "```\n",
    "\n",
    "A type list, which represents the string \"abc\":\n",
    "``` c++\n",
    "using abc_list = tl<char_t<'a'>, tl<char_t<'b'>, tl<char_t<'c'>, null_t> > >;\n",
    "```"
   ]
  },
  {
   "cell_type": "markdown",
   "metadata": {
    "slideshow": {
     "slide_type": "subslide"
    }
   },
   "source": [
    "## String --> String Provider\n",
    "\n",
    "C-Style ```char*``` strings are no valid template parameters. \n",
    "\n",
    "We need to represent them as a type:\n",
    "\n",
    "``` c++\n",
    "struct abc_string_provider {\n",
    "   static constexpr const char * str() {\n",
    "       return \"abc\";\n",
    "   }\n",
    "};\n",
    "\n",
    "using my_abc_string = string_list_t<abc_string_provider>;\n",
    "```\n",
    "\n",
    "The type ```my_abc_string``` is a valid template type parameter."
   ]
  },
  {
   "cell_type": "markdown",
   "metadata": {
    "slideshow": {
     "slide_type": "subslide"
    }
   },
   "source": [
    "## String Provider --> Nested Typelist\n",
    "\n",
    " \n",
    "\n",
    "``` c++\n",
    "template <class Str, size_t Pos, char C>\n",
    "struct string_list;\n",
    "\n",
    "template <class Str, size_t Pos, char C>\n",
    "struct string_list {\n",
    "    using next_piece = typename string_list<\n",
    "                            Str,\n",
    "                            Pos + 1,\n",
    "                            Str::str()[Pos + 1]\n",
    "                        >::type;\n",
    "    using type = tl<char_t<C>, next_piece>;\n",
    "};\n",
    "\n",
    "template <class Str, size_t Pos>\n",
    "struct string_list<Str, Pos, '\\0'> {\n",
    "    using type = null_t;\n",
    "};\n",
    "\n",
    "template <class Str>\n",
    "using string_list_t = typename string_list<Str, 0, Str::str()[0]>::type;\n",
    "```"
   ]
  },
  {
   "cell_type": "markdown",
   "metadata": {
    "slideshow": {
     "slide_type": "slide"
    }
   },
   "source": [
    "# The Turing Tape"
   ]
  },
  {
   "cell_type": "markdown",
   "metadata": {
    "slideshow": {
     "slide_type": "fragment"
    }
   },
   "source": [
    "We need a structure which models the cursor which points to memory cells on a tape of infinite length."
   ]
  },
  {
   "cell_type": "markdown",
   "metadata": {
    "slideshow": {
     "slide_type": "subslide"
    }
   },
   "source": [
    "So let's first create a type, which can represent such a tape:\n",
    "\n",
    "``` c++\n",
    "template <class LList, class Cursor, class RList>\n",
    "struct tape;\n",
    "```"
   ]
  },
  {
   "cell_type": "markdown",
   "metadata": {
    "slideshow": {
     "slide_type": "subslide"
    }
   },
   "source": [
    "``` c++\n",
    "template <class LHead, class LTail, \n",
    "          class Cursor, \n",
    "          class RHead, class RTail>\n",
    "struct tape<\n",
    "           tl<LHead, LTail>,\n",
    "           Cursor,\n",
    "           tl<RHead, RTail>\n",
    "       > {\n",
    "       \n",
    "    using get = Cursor;\n",
    "\n",
    "    template <class T>\n",
    "    using set = tape<\n",
    "                    tl<LHead, LTail>, \n",
    "                    T, \n",
    "                    tl<RHead, RTail>>;\n",
    "\n",
    "    using move_left  = tape<\n",
    "                           LTail, \n",
    "                           LHead, \n",
    "                           tl<Cursor, tl<RHead, RTail>>>;\n",
    "    using move_right = tape<\n",
    "                           tl<Cursor, tl<LHead, LTail>>, \n",
    "                           RHead, \n",
    "                           RTail>;\n",
    "};\n",
    "```"
   ]
  },
  {
   "cell_type": "markdown",
   "metadata": {
    "slideshow": {
     "slide_type": "subslide"
    }
   },
   "source": [
    "## Some Helpers, for readability\n",
    "\n",
    "``` c++\n",
    "template <class Tape>\n",
    "using get_t = typename Tape::get;\n",
    "\n",
    "\n",
    "template <class Tape, class T>\n",
    "using set_t = typename Tape::template set<T>;\n",
    "\n",
    "\n",
    "template <class Tape>\n",
    "using move_left_t  = typename Tape::move_left;\n",
    "\n",
    "\n",
    "template <class Tape>\n",
    "using move_right_t = typename Tape::move_right;\n",
    "\n",
    "\n",
    "template <class T>\n",
    "using make_t = tape<null_t, T, null_t>;\n",
    "```"
   ]
  },
  {
   "cell_type": "markdown",
   "metadata": {
    "slideshow": {
     "slide_type": "subslide"
    }
   },
   "source": [
    "## Some Example Use\n",
    "\n",
    "``` c++\n",
    "using a_tape       = make_t<char_t<'a'>>;\n",
    "\n",
    "using shifted_left = move_left_t<a_tape>;\n",
    "\n",
    "using set_to_b     = set_t<shifted_left, char_t<'b'>>;\n",
    "\n",
    "// Or in just one line:\n",
    "using ab_tape = set_t<move_left_t<make_t<char_t<'a'> > >, char_t<'b'> >;\n",
    "```"
   ]
  },
  {
   "cell_type": "markdown",
   "metadata": {
    "slideshow": {
     "slide_type": "slide"
    }
   },
   "source": [
    "# The Brainfuck Machine"
   ]
  },
  {
   "cell_type": "markdown",
   "metadata": {
    "slideshow": {
     "slide_type": "subslide"
    }
   },
   "source": [
    "It's basically a turing tape:\n",
    "\n",
    "``` c++\n",
    "template <typename Tape>\n",
    "struct bf_machine;\n",
    "```"
   ]
  },
  {
   "cell_type": "markdown",
   "metadata": {
    "slideshow": {
     "slide_type": "subslide"
    }
   },
   "source": [
    "... with some little extras:\n",
    "\n",
    "``` c++\n",
    "template <typename Tape>\n",
    "struct machine {\n",
    "    using move_left  = machine<null_to_0_t<tt_move_left_t< Tape> > >;\n",
    "    \n",
    "    using move_right = machine<null_to_0_t<tt_move_right_t<Tape> > >;\n",
    "\n",
    "    using get = get_t<Tape>;\n",
    "    \n",
    "    template <char value>\n",
    "    using set = machine<set_t<Tape, char_t<value> > >;\n",
    "\n",
    "    static const constexpr char value {get::value};\n",
    "\n",
    "    using increment = set<value + 1>;\n",
    "    using decrement = set<value - 1>;\n",
    "};\n",
    "```"
   ]
  },
  {
   "cell_type": "markdown",
   "metadata": {
    "slideshow": {
     "slide_type": "subslide"
    }
   },
   "source": [
    "``` c++\n",
    "// Brainfuck '<'\n",
    "template <typename Machine>\n",
    "using move_left_t = typename Machine::move_left;\n",
    "\n",
    "// Brainfuck '>'\n",
    "template <typename Machine>\n",
    "using move_right_t = typename Machine::move_right;\n",
    "\n",
    "// Brainfuck '.'\n",
    "template <typename Machine>\n",
    "using get_t = typename Machine::get;\n",
    "\n",
    "// Brainfuck ','\n",
    "template <typename Machine, char val>\n",
    "using set_t = typename Machine::template set<val>;\n",
    "\n",
    "// Brainfuck '+'\n",
    "template <typename Machine>\n",
    "using increment_t = typename Machine::increment;\n",
    "\n",
    "// Brainfuck '-'\n",
    "template <typename Machine>\n",
    "using decrement_t = typename Machine::decrement;\n",
    "\n",
    "using make_t = machine<tape_make_t<char_t<0>>>;\n",
    "```"
   ]
  },
  {
   "cell_type": "markdown",
   "metadata": {
    "slideshow": {
     "slide_type": "slide"
    }
   },
   "source": [
    "# BFM + I/O"
   ]
  },
  {
   "cell_type": "markdown",
   "metadata": {
    "slideshow": {
     "slide_type": "fragment"
    }
   },
   "source": [
    "We have a brainfuck machine, which can be used to manually execute BF operations."
   ]
  },
  {
   "cell_type": "markdown",
   "metadata": {
    "slideshow": {
     "slide_type": "subslide"
    }
   },
   "source": [
    "In order to do more with it, we can wrap it into another type:\n",
    "\n",
    "``` c++\n",
    "template <\n",
    "    class BFM, \n",
    "    class Inlist, \n",
    "    class OutList>\n",
    "struct io_bfm;\n",
    "```"
   ]
  },
  {
   "cell_type": "markdown",
   "metadata": {
    "slideshow": {
     "slide_type": "subslide"
    }
   },
   "source": [
    "The next step is a function, which takes an `IOBFM` state and a brainfuck command, and returns a new `IOBFM` state.\n",
    "\n",
    "\\begin{matrix}\n",
    "   f: & (state_{old}, char_{input}) & \\to & state_{new}\\\\\n",
    "   & & & \\\\\n",
    "   f: & (state_{old}, +) & \\to & state_{incremented}\\\\\n",
    "   f: & (state_{old}, >) & \\to & state_{moved\\ right}\\\\\n",
    "      & & \\dots & \n",
    "\\end{matrix}"
   ]
  },
  {
   "cell_type": "markdown",
   "metadata": {
    "slideshow": {
     "slide_type": "subslide"
    }
   },
   "source": [
    "in C++:\n",
    "\n",
    "``` c++\n",
    "template <class IOBFM, char InputChar>\n",
    "struct interpret_step;\n",
    "\n",
    "template <class IOBFM, char InputChar>\n",
    "using interpret_step_t = typename interpret_step<IOBFM, InputChar>::type;\n",
    "```"
   ]
  },
  {
   "cell_type": "markdown",
   "metadata": {
    "slideshow": {
     "slide_type": "subslide"
    }
   },
   "source": [
    "``` c++\n",
    "// '+' command: Increment cursor value\n",
    "\n",
    "template <class BFM, class InList, class OutList>\n",
    "struct interpret_step<io_bfm<BFM, InList, OutList>, '+'> {\n",
    "    using type = io_bfm<increment_t<BFM>,\n",
    "                        InList, \n",
    "                        OutList>;\n",
    "};\n",
    "```"
   ]
  },
  {
   "cell_type": "markdown",
   "metadata": {
    "slideshow": {
     "slide_type": "subslide"
    }
   },
   "source": [
    "``` c++\n",
    "// '>' command: Move cursor to the right\n",
    "\n",
    "template <class BFM, class InList, class OutList>\n",
    "struct interpret_step<io_bfm<BFM, InList, OutList>, '>'> {\n",
    "    using type = io_bfm<move_right_t<BFM>, \n",
    "                        InList, \n",
    "                        OutList>;\n",
    "};\n",
    "```"
   ]
  },
  {
   "cell_type": "markdown",
   "metadata": {
    "slideshow": {
     "slide_type": "subslide"
    }
   },
   "source": [
    "``` c++\n",
    "// '.' command: Output cursor value\n",
    "\n",
    "template <class BFM, class InList, class OutList>\n",
    "struct interpret_step<io_bfm<BFM, InList, OutList>, '.'> {\n",
    "    using type = io_bfm<BFM, \n",
    "                       InList, \n",
    "                       append_t<OutList, get_t<BFM>>>;\n",
    "};\n",
    "```"
   ]
  },
  {
   "cell_type": "markdown",
   "metadata": {
    "slideshow": {
     "slide_type": "subslide"
    }
   },
   "source": [
    "``` c++\n",
    "// ',' command: Assign input value to cursor\n",
    "\n",
    "template <class BFM, class InList, class OutList>\n",
    "struct interpret_step<io_bfm<BFM, InList, OutList>, ','> {\n",
    "    using type = io_bfm<set_t<BFM, head_t<InList>::value>, \n",
    "                        tail_t<InList>, \n",
    "                        OutList>;\n",
    "};\n",
    "```"
   ]
  },
  {
   "cell_type": "markdown",
   "metadata": {
    "slideshow": {
     "slide_type": "slide"
    }
   },
   "source": [
    "# BFM + I/O + BF Program"
   ]
  },
  {
   "cell_type": "markdown",
   "metadata": {
    "slideshow": {
     "slide_type": "fragment"
    }
   },
   "source": [
    "We can now call ```interpret_step``` with an ```io_bfm``` state, and get the next state.\n",
    "\n",
    "We can do this in a loop, which feeds a Brainfuck Program (stored in another list) to this function, character by character, until the program runs empty.\n"
   ]
  },
  {
   "cell_type": "markdown",
   "metadata": {
    "slideshow": {
     "slide_type": "fragment"
    }
   },
   "source": [
    "\\begin{matrix}\n",
    "       & f: & ( & state_{old},   & (, + + .) & ) \\\\\n",
    "   \\to & f: & ( & state_{new1},  & (+ + .)   & )  \\\\\n",
    "   \\to & f: & ( & state_{new2},  & (+ .)     & )  \\\\\n",
    "   \\to & f: & ( & state_{new3},  & (.)       & )  \\\\\n",
    "   \\to &    &   & state_{final}  &\n",
    "\\end{matrix}"
   ]
  },
  {
   "cell_type": "markdown",
   "metadata": {
    "slideshow": {
     "slide_type": "subslide"
    }
   },
   "source": [
    "The loop:\n",
    "\n",
    "``` c++\n",
    "template <class IOBFM, class ProgList>\n",
    "struct run_tm;\n",
    "\n",
    "template <class IOBFM, class ProgList>\n",
    "using run_tm_t = typename run_tm<IOBFM, ProgList>::type;\n",
    "```"
   ]
  },
  {
   "cell_type": "markdown",
   "metadata": {
    "slideshow": {
     "slide_type": "subslide"
    }
   },
   "source": [
    "``` c++\n",
    "template <class IOBFM, char Command, class RestProg>\n",
    "struct run_tm<IOBFM, tl<char_t<Command>, RestProg>> {\n",
    "    using type = typename run_tm<\n",
    "                      interpret_step_t<IOBFM, Command>, \n",
    "                      RestProg\n",
    "                 >::type;\n",
    "};\n",
    "\n",
    "// Recursion end case:\n",
    "template <class IOBFM>\n",
    "struct run_tm<IOBFM, null_t> {\n",
    "    using type = IOBFM;\n",
    "};\n",
    "```"
   ]
  },
  {
   "cell_type": "markdown",
   "metadata": {
    "slideshow": {
     "slide_type": "subslide"
    }
   },
   "source": [
    "We are covering `+`, `-`, `<`, `>` now.\n",
    "\n",
    "But that's not all, there is still something missing!"
   ]
  },
  {
   "cell_type": "markdown",
   "metadata": {
    "slideshow": {
     "slide_type": "slide"
    }
   },
   "source": [
    "# Loops: `[` `]`"
   ]
  },
  {
   "cell_type": "markdown",
   "metadata": {
    "slideshow": {
     "slide_type": "subslide"
    }
   },
   "source": [
    "Loops are pretty complicated, because we have to search for the next closing bracket `']'` character, in order to know what belongs to the loop body.\n",
    "\n",
    "Loops can be nested: `[.........[...[...]......]...]`"
   ]
  },
  {
   "cell_type": "markdown",
   "metadata": {
    "slideshow": {
     "slide_type": "fragment"
    }
   },
   "source": [
    "Solution: Count bracket pairs.\n",
    "\n",
    "Count **up** on opening brackets `'['`, and **down** on closing brackets `']'`."
   ]
  },
  {
   "cell_type": "markdown",
   "metadata": {
    "slideshow": {
     "slide_type": "fragment"
    }
   },
   "source": [
    "```\n",
    "......[......[......[.....]....].....]......\n",
    "      1      2      3     2    1     X\n",
    "```"
   ]
  },
  {
   "cell_type": "markdown",
   "metadata": {
    "slideshow": {
     "slide_type": "slide"
    }
   },
   "source": [
    "We need a function, which takes the part of a BF program which starts with a loop, and which returns the loop body and the rest of the program:\n",
    "    \n",
    "\\begin{equation*}\n",
    "   f: \"[xxxxx]yyyyyy\" \\to (\"xxxxx\", \"yyyyyy\")\n",
    "\\end{equation*}"
   ]
  },
  {
   "cell_type": "markdown",
   "metadata": {
    "slideshow": {
     "slide_type": "fragment"
    }
   },
   "source": [
    "``` c++\n",
    "template <class InList, class OutList, size_t Counter>\n",
    "struct find_brace;\n",
    "\n",
    "template <class InList>\n",
    "using find_brace_t = find_brace<InList, null_t, 1>;\n",
    "```"
   ]
  },
  {
   "cell_type": "markdown",
   "metadata": {
    "slideshow": {
     "slide_type": "subslide"
    }
   },
   "source": [
    "``` c++\n",
    "// Match: non-bracket characters\n",
    "\n",
    "template <char C, class InList, class OutList, size_t N>\n",
    "struct find_brace<tl<char_t<C>, InList>, \n",
    "                  OutList, \n",
    "                  N>\n",
    "    // Add character to outlist\n",
    "    : public find_brace<InList, \n",
    "                        append_t<OutList, char_t<C>>,\n",
    "                        N>\n",
    "{};\n",
    "```"
   ]
  },
  {
   "cell_type": "markdown",
   "metadata": {
    "slideshow": {
     "slide_type": "subslide"
    }
   },
   "source": [
    "``` c++\n",
    "// Match: counter is != 1, next character is '['\n",
    "\n",
    "template <class InList, class OutList, size_t N>\n",
    "struct find_brace<tl<char_t<'['>, InList>, \n",
    "                  OutList, \n",
    "                  N>\n",
    "    // Add character to outlist, increment counter\n",
    "    : public find_brace<InList, \n",
    "                        append_t<OutList, char_t<'['>>, \n",
    "                        N + 1>\n",
    "{};\n",
    "```"
   ]
  },
  {
   "cell_type": "markdown",
   "metadata": {
    "slideshow": {
     "slide_type": "subslide"
    }
   },
   "source": [
    "``` c++\n",
    "// Match: counter is != 1, next character is ']'\n",
    "\n",
    "template <class InList, class OutList, size_t N>\n",
    "struct find_brace<tl<char_t<']'>, InList>, \n",
    "                  OutList, \n",
    "                  N>\n",
    "    // Add character to outlist, decrement counter\n",
    "    : public find_brace<InList, \n",
    "                       append_t<OutList, char_t<']'>>, \n",
    "                       N - 1>\n",
    "{};\n",
    "```"
   ]
  },
  {
   "cell_type": "markdown",
   "metadata": {
    "slideshow": {
     "slide_type": "subslide"
    }
   },
   "source": [
    "``` c++\n",
    "// Match: counter is 1, next character is ']'\n",
    "// This is the final closing bracket.\n",
    "\n",
    "template <class InList, class OutList>\n",
    "struct find_brace<tl<char_t<']'>, InList>, \n",
    "                  OutList, \n",
    "                  1> {\n",
    "    // We're done. The user can now choose...\n",
    "\n",
    "    // ...the inner-loop program part\n",
    "    using loop_block = OutList;\n",
    "\n",
    "    // ...the rest of the program after the loop\n",
    "    using rest_prog   = InList;\n",
    "};\n",
    "```"
   ]
  },
  {
   "cell_type": "markdown",
   "metadata": {
    "slideshow": {
     "slide_type": "subslide"
    }
   },
   "source": [
    "What a monstrum.\n",
    "\n",
    "How to integrate that into our `run_tm` function in order to enable it for loop execution?"
   ]
  },
  {
   "cell_type": "markdown",
   "metadata": {
    "slideshow": {
     "slide_type": "fragment"
    }
   },
   "source": [
    "`run_tm` did formerly just take characters from the program list, and fed them into `interpret_step_t`.\n",
    "\n",
    "We add a special case to it: If the next program character is `'['`, use our loop counting monster:"
   ]
  },
  {
   "cell_type": "markdown",
   "metadata": {
    "slideshow": {
     "slide_type": "subslide"
    }
   },
   "source": [
    "``` c++\n",
    "// Matches: '[', Next BF command is the beginning of a loop\n",
    "    \n",
    "template <class IOBFM, class RestProg>\n",
    "struct run_tm<IOBFM, tl<char_t<'['>, RestProg>> {\n",
    "\n",
    "    static const constexpr bool loop_terminated {\n",
    "                 get_t<typename IOBFM::state>::value == 0};\n",
    "\n",
    "    using blocks = find_brace_t<RestProg>;\n",
    "\n",
    "    // If the loop shall already terminate...\n",
    "    using type = typename if_else_t<loop_terminated,\n",
    "        // ...then run the rest of the program,\n",
    "        //    which begins after the closing ']'\n",
    "        run_tm<IOBFM, typename blocks::rest_prog>,\n",
    "\n",
    "        // ...else, execute the BFM on the loop body,\n",
    "        //    as if it was the whole program...\n",
    "        run_tm<\n",
    "            typename run_tm<IOBFM, \n",
    "                            typename blocks::loop_block\n",
    "                      >::type,\n",
    "            // ...and then confront it with the\n",
    "            //    same loop again.\n",
    "            tl<char_t<'['>, RestProg>>\n",
    "    >::type;\n",
    "};\n",
    "```"
   ]
  },
  {
   "cell_type": "markdown",
   "metadata": {
    "slideshow": {
     "slide_type": "slide"
    }
   },
   "source": [
    "# Demo"
   ]
  },
  {
   "cell_type": "markdown",
   "metadata": {
    "slideshow": {
     "slide_type": "subslide"
    }
   },
   "source": [
    "What happened during the demo:"
   ]
  },
  {
   "cell_type": "markdown",
   "metadata": {
    "slideshow": {
     "slide_type": "subslide"
    }
   },
   "source": [
    "Checkout the code from Github if you do not have it:\n",
    "\n",
    "``` bash\n",
    "git clone https://github.com/tfc/cpp_template_meta_brainfuck_interpreter.git\n",
    "cd cpp_template_meta_brainfuck_interpreter\n",
    "```"
   ]
  },
  {
   "cell_type": "markdown",
   "metadata": {
    "slideshow": {
     "slide_type": "subslide"
    }
   },
   "source": [
    "Output of the simple demo program from the beginning:\n",
    "\n",
    "``` bash\n",
    "Jacek.Galowicz ~/src/tmp_brainfuck $ g++ -o main main.cpp -O2 -std=c++11 -DINPUT_STR=\"\\\"z\\\"\" -DPROGRAM_STR=\"\\\",[.-]\\\"\"\n",
    "Jacek.Galowicz ~/src/tmp_brainfuck $ ./main\n",
    "zyxwvutsrqponmlkjihgfedcba`_^]\\[ZYXWVUTSRQPONMLKJIHGFEDCBA@?>=<;:9876543210/.-,+*)('&%$#\"! \n",
    "```"
   ]
  },
  {
   "cell_type": "markdown",
   "metadata": {
    "slideshow": {
     "slide_type": "subslide"
    }
   },
   "source": [
    "Output of the \"Hello World\" program:\n",
    "\n",
    "``` bash\n",
    "Jacek.Galowicz ~/src/tmp_brainfuck $ g++ -o main main.cpp -O2 -std=c++11 -DPROGRAM_STR=\"\\\"++++++++++[>+++++++>++++++++++>+++>+<<<<-]>++.>+.+++++++..+++.>++.<<+++++++++++++++.>.+++.------.--------.>+.>.+++.\\\"\"\n",
    "Jacek.Galowicz ~/src/tmp_brainfuck $ ./main\n",
    "Hello World!\n",
    "```"
   ]
  },
  {
   "cell_type": "markdown",
   "metadata": {
    "slideshow": {
     "slide_type": "subslide"
    }
   },
   "source": [
    "Proof that there is no real code executed other than the `puts(final string)` call, and the **static** string is directly loaded from the binaries text section:\n",
    "\n",
    "``` bash\n",
    "Jacek.Galowicz ~/src/tmp_brainfuck $ otool -tV main # Mac variant of objdump\n",
    "main:\n",
    "(__TEXT,__text) section\n",
    "_main:\n",
    "0000000100000f70\tpushq\t%rbp\n",
    "0000000100000f71\tmovq\t%rsp, %rbp\n",
    "0000000100000f74\tmovq\t0x85(%rip), %rdi        ## literal pool symbol address: __ZZN13tl_to_varlistIN2tl6null_tEJLc72ELc101ELc108ELc108ELc111ELc32ELc87ELc111ELc114ELc108ELc100ELc33ELc10ELc13EEE3strEvE6string\n",
    "0000000100000f7b\tcallq\t0x100000f84             ## symbol stub for: _puts\n",
    "0000000100000f80\txorl\t%eax, %eax\n",
    "0000000100000f82\tpopq\t%rbp\n",
    "0000000100000f83\tretq\n",
    "```"
   ]
  },
  {
   "cell_type": "markdown",
   "metadata": {
    "slideshow": {
     "slide_type": "slide"
    }
   },
   "source": [
    "# The Final Deal"
   ]
  },
  {
   "cell_type": "markdown",
   "metadata": {
    "slideshow": {
     "slide_type": "subslide"
    }
   },
   "source": [
    "``` c++\n",
    "// The program input is provided by a string provider.\n",
    "// The type list transformation article explains, how these work.\n",
    "struct program_str { \n",
    "    static constexpr const char * str() { \n",
    "        // \"Hello World\" Brainfuck implementation from wikipedia\n",
    "        return \"++++++++++[>+++++++>++++++++++>+++>+<<<<-]>++.>+.+++++++.\" \n",
    "               \".+++.>++.<<+++++++++++++++.>.+++.------.--------.>+.>.+++.\";\n",
    "    } \n",
    "};\n",
    "\n",
    "int main()\n",
    "{\n",
    "    // Transform the program string provider into a type list\n",
    "    using prog       = string_list_t<program_str>;\n",
    "\n",
    "    // Compose an initialized IOBFM from an empty BFM, and the empty input\n",
    "    using BFM = bfm::io_bfm<bfm::make_t, null_t, null_t>;\n",
    "\n",
    "    // The BFM's machine output is obtained by _running_ the IOBFM \n",
    "    // together with the brainfuck program in the run_tm function.\n",
    "    using output = bfm::run_tm_t<BFM, prog>::output;\n",
    "\n",
    "    // Generate a normal C string back from the output character typelist,\n",
    "    // and finally print it.\n",
    "    puts(tl_to_varlist<output>::str());\n",
    "\n",
    "    return 0;\n",
    "};\n",
    "```"
   ]
  },
  {
   "cell_type": "markdown",
   "metadata": {
    "slideshow": {
     "slide_type": "slide"
    }
   },
   "source": [
    "# Summary\n",
    "\n",
    "- C++ TMP mechanisms are **turing complete**\n",
    "- *Ugly syntax*, but nearly **1:1 translatable** between PF languages and TMP\n",
    "- Great possibilities\n",
    "- Brainfuck interpreter is a *fun project*\n",
    "- I regard this meta program as a **demo vehicle** for interesting mechanisms/techniques.\n",
    "    - There are some nice things i implemented at work with similar code, hence cannot show them here:\n",
    "    - typesafe **python-style printf**: \n",
    "        - `print(\"Int: {} Long int: {} unsigned int: {} pointer: {}\", 123, 123l, 123u, nullptr);`\n",
    "    - Transforming symbol names into readable strings:\n",
    "        - `TEST_CASE(data_structure_works_as_expected) { ... }`\n",
    "        - print at runtime: `Test case: \"data structure works as expexted\": PASS`\n",
    "    - `enable_if` with sets of types (stored in lists)\n",
    "    - Automatic inheritance chains, defined by lists \n",
    "- Got the BF machine on **github**: [https://github.com/tfc/cpp_template_meta_brainfuck_interpreter](https://github.com/tfc/cpp_template_meta_brainfuck_interpreter)\n",
    "- And covered it in multiple articles on my **blog**: [https://blog.galowicz.de](https://blog.galowicz.de)"
   ]
  }
 ],
 "metadata": {
  "celltoolbar": "Slideshow",
  "kernelspec": {
   "display_name": "Python 3",
   "language": "python",
   "name": "python3"
  },
  "language_info": {
   "codemirror_mode": {
    "name": "ipython",
    "version": 3
   },
   "file_extension": ".py",
   "mimetype": "text/x-python",
   "name": "python",
   "nbconvert_exporter": "python",
   "pygments_lexer": "ipython3",
   "version": "3.5.1"
  }
 },
 "nbformat": 4,
 "nbformat_minor": 0
}
